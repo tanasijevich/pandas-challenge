{
 "cells": [
  {
   "cell_type": "markdown",
   "metadata": {},
   "source": [
    "### Note\n",
    "* Instructions have been included for each segment. You do not have to follow them exactly, but they are included to help you think through the steps."
   ]
  },
  {
   "cell_type": "code",
   "execution_count": 2,
   "metadata": {},
   "outputs": [],
   "source": [
    "# Dependencies and Setup\n",
    "import pandas as pd\n",
    "\n",
    "# File to Load (Remember to Change These)\n",
    "file_to_load = \"Resources/purchase_data.csv\"\n",
    "\n",
    "# Read Purchasing File and store into Pandas data frame\n",
    "purchase_data = pd.read_csv(file_to_load)"
   ]
  },
  {
   "cell_type": "markdown",
   "metadata": {},
   "source": [
    "## Player Count"
   ]
  },
  {
   "cell_type": "markdown",
   "metadata": {},
   "source": [
    "* Display the total number of players\n"
   ]
  },
  {
   "cell_type": "code",
   "execution_count": 3,
   "metadata": {},
   "outputs": [
    {
     "data": {
      "text/plain": [
       "780"
      ]
     },
     "execution_count": 3,
     "metadata": {},
     "output_type": "execute_result"
    }
   ],
   "source": [
    "player_number = purchase_data.SN.count()\n",
    "player_number"
   ]
  },
  {
   "cell_type": "markdown",
   "metadata": {},
   "source": [
    "## Purchasing Analysis (Total)"
   ]
  },
  {
   "cell_type": "markdown",
   "metadata": {},
   "source": [
    "* Run basic calculations to obtain number of unique items, average price, etc.\n",
    "\n",
    "\n",
    "* Create a summary data frame to hold the results\n",
    "\n",
    "\n",
    "* Optional: give the displayed data cleaner formatting\n",
    "\n",
    "\n",
    "* Display the summary data frame\n"
   ]
  },
  {
   "cell_type": "code",
   "execution_count": 4,
   "metadata": {
    "scrolled": true
   },
   "outputs": [
    {
     "data": {
      "text/plain": [
       "179"
      ]
     },
     "execution_count": 4,
     "metadata": {},
     "output_type": "execute_result"
    }
   ],
   "source": [
    "unique_items = purchase_data[\"Item ID\"].nunique()\n",
    "unique_items"
   ]
  },
  {
   "cell_type": "code",
   "execution_count": 5,
   "metadata": {},
   "outputs": [
    {
     "data": {
      "text/plain": [
       "3.050987179487176"
      ]
     },
     "execution_count": 5,
     "metadata": {},
     "output_type": "execute_result"
    }
   ],
   "source": [
    "avg_price = purchase_data[\"Price\"].mean()\n",
    "avg_price"
   ]
  },
  {
   "cell_type": "code",
   "execution_count": 6,
   "metadata": {},
   "outputs": [],
   "source": [
    "gendergroup = purchase_data.groupby(\"Gender\")\n",
    "\n",
    "genderunique = gendergroup.nunique()[\"SN\"]\n",
    "\n",
    "totalplayers = genderunique.sum()\n",
    "\n",
    "percent = genderunique / totalplayers *100"
   ]
  },
  {
   "cell_type": "code",
   "execution_count": 7,
   "metadata": {},
   "outputs": [
    {
     "data": {
      "text/html": [
       "<div>\n",
       "<style scoped>\n",
       "    .dataframe tbody tr th:only-of-type {\n",
       "        vertical-align: middle;\n",
       "    }\n",
       "\n",
       "    .dataframe tbody tr th {\n",
       "        vertical-align: top;\n",
       "    }\n",
       "\n",
       "    .dataframe thead th {\n",
       "        text-align: right;\n",
       "    }\n",
       "</style>\n",
       "<table border=\"1\" class=\"dataframe\">\n",
       "  <thead>\n",
       "    <tr style=\"text-align: right;\">\n",
       "      <th></th>\n",
       "      <th>Total Number of Players</th>\n",
       "      <th>Average Price</th>\n",
       "      <th>Number of Unique Items</th>\n",
       "    </tr>\n",
       "  </thead>\n",
       "  <tbody>\n",
       "    <tr>\n",
       "      <th>0</th>\n",
       "      <td>576</td>\n",
       "      <td>3.050987</td>\n",
       "      <td>179</td>\n",
       "    </tr>\n",
       "  </tbody>\n",
       "</table>\n",
       "</div>"
      ],
      "text/plain": [
       "   Total Number of Players  Average Price  Number of Unique Items\n",
       "0                      576       3.050987                     179"
      ]
     },
     "execution_count": 7,
     "metadata": {},
     "output_type": "execute_result"
    }
   ],
   "source": [
    "summary_df = pd.DataFrame([{\n",
    "    \"Total Number of Players\": totalplayers,\n",
    "    \"Average Price\": avg_price, \n",
    "    \"Number of Unique Items\": unique_items}])\n",
    "summary_df"
   ]
  },
  {
   "cell_type": "markdown",
   "metadata": {},
   "source": [
    "## Gender Demographics"
   ]
  },
  {
   "cell_type": "markdown",
   "metadata": {},
   "source": [
    "* Percentage and Count of Male Players\n",
    "\n",
    "\n",
    "* Percentage and Count of Female Players\n",
    "\n",
    "\n",
    "* Percentage and Count of Other / Non-Disclosed\n",
    "\n",
    "\n"
   ]
  },
  {
   "cell_type": "code",
   "execution_count": 8,
   "metadata": {},
   "outputs": [
    {
     "data": {
      "text/html": [
       "<div>\n",
       "<style scoped>\n",
       "    .dataframe tbody tr th:only-of-type {\n",
       "        vertical-align: middle;\n",
       "    }\n",
       "\n",
       "    .dataframe tbody tr th {\n",
       "        vertical-align: top;\n",
       "    }\n",
       "\n",
       "    .dataframe thead th {\n",
       "        text-align: right;\n",
       "    }\n",
       "</style>\n",
       "<table border=\"1\" class=\"dataframe\">\n",
       "  <thead>\n",
       "    <tr style=\"text-align: right;\">\n",
       "      <th></th>\n",
       "      <th>SN</th>\n",
       "    </tr>\n",
       "    <tr>\n",
       "      <th>Gender</th>\n",
       "      <th></th>\n",
       "    </tr>\n",
       "  </thead>\n",
       "  <tbody>\n",
       "    <tr>\n",
       "      <th>Female</th>\n",
       "      <td>81</td>\n",
       "    </tr>\n",
       "    <tr>\n",
       "      <th>Male</th>\n",
       "      <td>484</td>\n",
       "    </tr>\n",
       "    <tr>\n",
       "      <th>Other / Non-Disclosed</th>\n",
       "      <td>11</td>\n",
       "    </tr>\n",
       "  </tbody>\n",
       "</table>\n",
       "</div>"
      ],
      "text/plain": [
       "                        SN\n",
       "Gender                    \n",
       "Female                  81\n",
       "Male                   484\n",
       "Other / Non-Disclosed   11"
      ]
     },
     "execution_count": 8,
     "metadata": {},
     "output_type": "execute_result"
    }
   ],
   "source": [
    "gudf = pd.DataFrame(genderunique)\n",
    "\n",
    "gudf.head()"
   ]
  },
  {
   "cell_type": "code",
   "execution_count": 9,
   "metadata": {},
   "outputs": [],
   "source": [
    "malecount = gudf.loc[\"Male\", :]\n",
    "femalecount = gudf.loc[\"Female\", :]\n",
    "othercount = gudf.loc[\"Other / Non-Disclosed\", :]"
   ]
  },
  {
   "cell_type": "code",
   "execution_count": 10,
   "metadata": {},
   "outputs": [],
   "source": [
    "malepercent = malecount / totalplayers * 100\n",
    "femalepercent = femalecount / totalplayers * 100\n",
    "otherpercent = othercount / totalplayers * 100"
   ]
  },
  {
   "cell_type": "code",
   "execution_count": 11,
   "metadata": {},
   "outputs": [
    {
     "data": {
      "text/html": [
       "<div>\n",
       "<style scoped>\n",
       "    .dataframe tbody tr th:only-of-type {\n",
       "        vertical-align: middle;\n",
       "    }\n",
       "\n",
       "    .dataframe tbody tr th {\n",
       "        vertical-align: top;\n",
       "    }\n",
       "\n",
       "    .dataframe thead th {\n",
       "        text-align: right;\n",
       "    }\n",
       "</style>\n",
       "<table border=\"1\" class=\"dataframe\">\n",
       "  <thead>\n",
       "    <tr style=\"text-align: right;\">\n",
       "      <th></th>\n",
       "      <th>Percent of Players</th>\n",
       "      <th>Total</th>\n",
       "    </tr>\n",
       "    <tr>\n",
       "      <th>Gender</th>\n",
       "      <th></th>\n",
       "      <th></th>\n",
       "    </tr>\n",
       "  </thead>\n",
       "  <tbody>\n",
       "    <tr>\n",
       "      <th>Female</th>\n",
       "      <td>14.06%</td>\n",
       "      <td>81</td>\n",
       "    </tr>\n",
       "    <tr>\n",
       "      <th>Male</th>\n",
       "      <td>84.03%</td>\n",
       "      <td>484</td>\n",
       "    </tr>\n",
       "    <tr>\n",
       "      <th>Other / Non-Disclosed</th>\n",
       "      <td>1.91%</td>\n",
       "      <td>11</td>\n",
       "    </tr>\n",
       "  </tbody>\n",
       "</table>\n",
       "</div>"
      ],
      "text/plain": [
       "                      Percent of Players  Total\n",
       "Gender                                         \n",
       "Female                            14.06%     81\n",
       "Male                              84.03%    484\n",
       "Other / Non-Disclosed              1.91%     11"
      ]
     },
     "execution_count": 11,
     "metadata": {},
     "output_type": "execute_result"
    }
   ],
   "source": [
    "genderstats = pd.DataFrame({\"Percent of Players\": percent, \"Total\": genderunique})\n",
    "genderstats[\"Percent of Players\"] = genderstats[\"Percent of Players\"].map(\"{: .2f}%\".format)\n",
    "\n",
    "genderstats"
   ]
  },
  {
   "cell_type": "markdown",
   "metadata": {},
   "source": [
    "\n",
    "## Purchasing Analysis (Gender)"
   ]
  },
  {
   "cell_type": "markdown",
   "metadata": {},
   "source": [
    "* Run basic calculations to obtain purchase count, avg. purchase price, avg. purchase total per person etc. by gender\n",
    "\n",
    "\n",
    "\n",
    "\n",
    "* Create a summary data frame to hold the results\n",
    "\n",
    "\n",
    "* Optional: give the displayed data cleaner formatting\n",
    "\n",
    "\n",
    "* Display the summary data frame"
   ]
  },
  {
   "cell_type": "code",
   "execution_count": null,
   "metadata": {},
   "outputs": [],
   "source": []
  },
  {
   "cell_type": "code",
   "execution_count": 12,
   "metadata": {},
   "outputs": [],
   "source": [
    "grouped_purchase_count = gendergroup.count()[\"Purchase ID\"]\n",
    "\n",
    "grouped_purchase_avg = gendergroup.mean()[\"Price\"]\n",
    "\n",
    "grouped_purchase_total = gendergroup.sum()[\"Price\"]\n",
    "\n",
    "avg_total_ppp = grouped_purchase_total / genderunique\n"
   ]
  },
  {
   "cell_type": "code",
   "execution_count": 13,
   "metadata": {},
   "outputs": [
    {
     "data": {
      "text/html": [
       "<div>\n",
       "<style scoped>\n",
       "    .dataframe tbody tr th:only-of-type {\n",
       "        vertical-align: middle;\n",
       "    }\n",
       "\n",
       "    .dataframe tbody tr th {\n",
       "        vertical-align: top;\n",
       "    }\n",
       "\n",
       "    .dataframe thead th {\n",
       "        text-align: right;\n",
       "    }\n",
       "</style>\n",
       "<table border=\"1\" class=\"dataframe\">\n",
       "  <thead>\n",
       "    <tr style=\"text-align: right;\">\n",
       "      <th></th>\n",
       "      <th>Purchase Count</th>\n",
       "      <th>Average Purchase Price</th>\n",
       "      <th>Total Purchase Value</th>\n",
       "      <th>Avg Total Purchase per Person</th>\n",
       "    </tr>\n",
       "    <tr>\n",
       "      <th>Gender</th>\n",
       "      <th></th>\n",
       "      <th></th>\n",
       "      <th></th>\n",
       "      <th></th>\n",
       "    </tr>\n",
       "  </thead>\n",
       "  <tbody>\n",
       "    <tr>\n",
       "      <th>Female</th>\n",
       "      <td>113</td>\n",
       "      <td>$ 3.20</td>\n",
       "      <td>$ 361.94</td>\n",
       "      <td>$ 4.47</td>\n",
       "    </tr>\n",
       "    <tr>\n",
       "      <th>Male</th>\n",
       "      <td>652</td>\n",
       "      <td>$ 3.02</td>\n",
       "      <td>$ 1967.64</td>\n",
       "      <td>$ 4.07</td>\n",
       "    </tr>\n",
       "    <tr>\n",
       "      <th>Other / Non-Disclosed</th>\n",
       "      <td>15</td>\n",
       "      <td>$ 3.35</td>\n",
       "      <td>$ 50.19</td>\n",
       "      <td>$ 4.56</td>\n",
       "    </tr>\n",
       "  </tbody>\n",
       "</table>\n",
       "</div>"
      ],
      "text/plain": [
       "                       Purchase Count Average Purchase Price  \\\n",
       "Gender                                                         \n",
       "Female                            113                 $ 3.20   \n",
       "Male                              652                 $ 3.02   \n",
       "Other / Non-Disclosed              15                 $ 3.35   \n",
       "\n",
       "                      Total Purchase Value Avg Total Purchase per Person  \n",
       "Gender                                                                    \n",
       "Female                            $ 361.94                        $ 4.47  \n",
       "Male                             $ 1967.64                        $ 4.07  \n",
       "Other / Non-Disclosed              $ 50.19                        $ 4.56  "
      ]
     },
     "execution_count": 13,
     "metadata": {},
     "output_type": "execute_result"
    }
   ],
   "source": [
    "gendersummary_df = pd.DataFrame({\n",
    "    \"Purchase Count\": grouped_purchase_count,\n",
    "    \"Average Purchase Price\": grouped_purchase_avg, \n",
    "    \"Total Purchase Value\": grouped_purchase_total,\n",
    "    \"Avg Total Purchase per Person\": avg_total_ppp})\n",
    "gendersummary_df.index.name = \"Gender\"\n",
    "\n",
    "gendersummary_df[\"Average Purchase Price\"] = gendersummary_df[\"Average Purchase Price\"].map(\"${: .2f}\".format)\n",
    "gendersummary_df[\"Total Purchase Value\"] = gendersummary_df[\"Total Purchase Value\"].map(\"${: .2f}\".format)\n",
    "gendersummary_df[\"Avg Total Purchase per Person\"] = gendersummary_df[\"Avg Total Purchase per Person\"].map(\"${: .2f}\".format)\n",
    "\n",
    "gendersummary_df"
   ]
  },
  {
   "cell_type": "markdown",
   "metadata": {},
   "source": [
    "## Age Demographics"
   ]
  },
  {
   "cell_type": "code",
   "execution_count": 14,
   "metadata": {},
   "outputs": [
    {
     "data": {
      "text/html": [
       "<div>\n",
       "<style scoped>\n",
       "    .dataframe tbody tr th:only-of-type {\n",
       "        vertical-align: middle;\n",
       "    }\n",
       "\n",
       "    .dataframe tbody tr th {\n",
       "        vertical-align: top;\n",
       "    }\n",
       "\n",
       "    .dataframe thead th {\n",
       "        text-align: right;\n",
       "    }\n",
       "</style>\n",
       "<table border=\"1\" class=\"dataframe\">\n",
       "  <thead>\n",
       "    <tr style=\"text-align: right;\">\n",
       "      <th></th>\n",
       "      <th>Age Count</th>\n",
       "      <th>Percent of Players by Age</th>\n",
       "    </tr>\n",
       "    <tr>\n",
       "      <th>Age Range</th>\n",
       "      <th></th>\n",
       "      <th></th>\n",
       "    </tr>\n",
       "  </thead>\n",
       "  <tbody>\n",
       "    <tr>\n",
       "      <th>&lt;10</th>\n",
       "      <td>17</td>\n",
       "      <td>2.95%</td>\n",
       "    </tr>\n",
       "    <tr>\n",
       "      <th>10-14</th>\n",
       "      <td>22</td>\n",
       "      <td>3.82%</td>\n",
       "    </tr>\n",
       "    <tr>\n",
       "      <th>15-19</th>\n",
       "      <td>107</td>\n",
       "      <td>18.58%</td>\n",
       "    </tr>\n",
       "    <tr>\n",
       "      <th>20-24</th>\n",
       "      <td>258</td>\n",
       "      <td>44.79%</td>\n",
       "    </tr>\n",
       "    <tr>\n",
       "      <th>25-29</th>\n",
       "      <td>77</td>\n",
       "      <td>13.37%</td>\n",
       "    </tr>\n",
       "    <tr>\n",
       "      <th>30-34</th>\n",
       "      <td>52</td>\n",
       "      <td>9.03%</td>\n",
       "    </tr>\n",
       "    <tr>\n",
       "      <th>35-39</th>\n",
       "      <td>31</td>\n",
       "      <td>5.38%</td>\n",
       "    </tr>\n",
       "    <tr>\n",
       "      <th>40+</th>\n",
       "      <td>12</td>\n",
       "      <td>2.08%</td>\n",
       "    </tr>\n",
       "  </tbody>\n",
       "</table>\n",
       "</div>"
      ],
      "text/plain": [
       "           Age Count Percent of Players by Age\n",
       "Age Range                                     \n",
       "<10               17                     2.95%\n",
       "10-14             22                     3.82%\n",
       "15-19            107                    18.58%\n",
       "20-24            258                    44.79%\n",
       "25-29             77                    13.37%\n",
       "30-34             52                     9.03%\n",
       "35-39             31                     5.38%\n",
       "40+               12                     2.08%"
      ]
     },
     "execution_count": 14,
     "metadata": {},
     "output_type": "execute_result"
    }
   ],
   "source": [
    "#establishing bins\n",
    "bins = [0, 9.9, 14.9, 19.9, 24.9, 29.9, 34.9, 39.9, 100]\n",
    "binnames = [\"<10\", \"10-14\", \"15-19\", \"20-24\", \"25-29\", \"30-34\", \"35-39\", \"40+\"]\n",
    "\n",
    "#create new segment Age Range based on the bins\n",
    "purchase_data[\"Age Range\"] = pd.cut(purchase_data[\"Age\"], bins, labels=binnames, include_lowest=True)\n",
    "\n",
    "agegrouped = purchase_data.groupby(\"Age Range\")\n",
    "\n",
    "#calculate the numbers and percentages by age group\n",
    "totalagecount = agegrouped[\"SN\"].nunique()\n",
    "\n",
    "agepercent = totalagecount / totalplayers *100\n",
    "\n",
    "#summarytable\n",
    "agesummary_df = pd.DataFrame({\n",
    "    \"Age Count\": totalagecount,\n",
    "    \"Percent of Players by Age\": agepercent})\n",
    "agesummary_df.index.name = \"Age Range\"\n",
    "\n",
    "agesummary_df[\"Percent of Players by Age\"] = agesummary_df[\"Percent of Players by Age\"].map(\"{: .2f}%\".format)\n",
    "\n",
    "\n",
    "\n",
    "agesummary_df"
   ]
  },
  {
   "cell_type": "markdown",
   "metadata": {},
   "source": [
    "* Establish bins for ages\n",
    "\n",
    "\n",
    "* Categorize the existing players using the age bins. Hint: use pd.cut()\n",
    "\n",
    "\n",
    "* Calculate the numbers and percentages by age group\n",
    "\n",
    "\n",
    "* Create a summary data frame to hold the results\n",
    "\n",
    "\n",
    "* Optional: round the percentage column to two decimal points\n",
    "\n",
    "\n",
    "* Display Age Demographics Table\n"
   ]
  },
  {
   "cell_type": "code",
   "execution_count": null,
   "metadata": {},
   "outputs": [],
   "source": []
  },
  {
   "cell_type": "markdown",
   "metadata": {},
   "source": [
    "## Purchasing Analysis (Age)"
   ]
  },
  {
   "cell_type": "markdown",
   "metadata": {},
   "source": [
    "* Bin the purchase_data data frame by age\n",
    "\n",
    "\n",
    "* Run basic calculations to obtain purchase count, avg. purchase price, avg. purchase total per person etc. in the table below\n",
    "\n",
    "\n",
    "* Create a summary data frame to hold the results\n",
    "\n",
    "\n",
    "* Optional: give the displayed data cleaner formatting\n",
    "\n",
    "\n",
    "* Display the summary data frame"
   ]
  },
  {
   "cell_type": "code",
   "execution_count": 15,
   "metadata": {},
   "outputs": [
    {
     "data": {
      "text/html": [
       "<div>\n",
       "<style scoped>\n",
       "    .dataframe tbody tr th:only-of-type {\n",
       "        vertical-align: middle;\n",
       "    }\n",
       "\n",
       "    .dataframe tbody tr th {\n",
       "        vertical-align: top;\n",
       "    }\n",
       "\n",
       "    .dataframe thead th {\n",
       "        text-align: right;\n",
       "    }\n",
       "</style>\n",
       "<table border=\"1\" class=\"dataframe\">\n",
       "  <thead>\n",
       "    <tr style=\"text-align: right;\">\n",
       "      <th></th>\n",
       "      <th>Purchase Count</th>\n",
       "      <th>Average Purchase Price</th>\n",
       "      <th>Total Purchase Value</th>\n",
       "      <th>Avg Total Purchase per Person</th>\n",
       "    </tr>\n",
       "    <tr>\n",
       "      <th>Age Range</th>\n",
       "      <th></th>\n",
       "      <th></th>\n",
       "      <th></th>\n",
       "      <th></th>\n",
       "    </tr>\n",
       "  </thead>\n",
       "  <tbody>\n",
       "    <tr>\n",
       "      <th>&lt;10</th>\n",
       "      <td>23</td>\n",
       "      <td>$ 77.13</td>\n",
       "      <td>$ 77.13</td>\n",
       "      <td>$ 4.54</td>\n",
       "    </tr>\n",
       "    <tr>\n",
       "      <th>10-14</th>\n",
       "      <td>28</td>\n",
       "      <td>$ 82.78</td>\n",
       "      <td>$ 82.78</td>\n",
       "      <td>$ 3.76</td>\n",
       "    </tr>\n",
       "    <tr>\n",
       "      <th>15-19</th>\n",
       "      <td>136</td>\n",
       "      <td>$ 412.89</td>\n",
       "      <td>$ 412.89</td>\n",
       "      <td>$ 3.86</td>\n",
       "    </tr>\n",
       "    <tr>\n",
       "      <th>20-24</th>\n",
       "      <td>365</td>\n",
       "      <td>$ 1114.06</td>\n",
       "      <td>$ 1114.06</td>\n",
       "      <td>$ 4.32</td>\n",
       "    </tr>\n",
       "    <tr>\n",
       "      <th>25-29</th>\n",
       "      <td>101</td>\n",
       "      <td>$ 293.00</td>\n",
       "      <td>$ 293.00</td>\n",
       "      <td>$ 3.81</td>\n",
       "    </tr>\n",
       "    <tr>\n",
       "      <th>30-34</th>\n",
       "      <td>73</td>\n",
       "      <td>$ 214.00</td>\n",
       "      <td>$ 214.00</td>\n",
       "      <td>$ 4.12</td>\n",
       "    </tr>\n",
       "    <tr>\n",
       "      <th>35-39</th>\n",
       "      <td>41</td>\n",
       "      <td>$ 147.67</td>\n",
       "      <td>$ 147.67</td>\n",
       "      <td>$ 4.76</td>\n",
       "    </tr>\n",
       "    <tr>\n",
       "      <th>40+</th>\n",
       "      <td>13</td>\n",
       "      <td>$ 38.24</td>\n",
       "      <td>$ 38.24</td>\n",
       "      <td>$ 3.19</td>\n",
       "    </tr>\n",
       "  </tbody>\n",
       "</table>\n",
       "</div>"
      ],
      "text/plain": [
       "           Purchase Count Average Purchase Price Total Purchase Value  \\\n",
       "Age Range                                                               \n",
       "<10                    23                $ 77.13              $ 77.13   \n",
       "10-14                  28                $ 82.78              $ 82.78   \n",
       "15-19                 136               $ 412.89             $ 412.89   \n",
       "20-24                 365              $ 1114.06            $ 1114.06   \n",
       "25-29                 101               $ 293.00             $ 293.00   \n",
       "30-34                  73               $ 214.00             $ 214.00   \n",
       "35-39                  41               $ 147.67             $ 147.67   \n",
       "40+                    13                $ 38.24              $ 38.24   \n",
       "\n",
       "          Avg Total Purchase per Person  \n",
       "Age Range                                \n",
       "<10                              $ 4.54  \n",
       "10-14                            $ 3.76  \n",
       "15-19                            $ 3.86  \n",
       "20-24                            $ 4.32  \n",
       "25-29                            $ 3.81  \n",
       "30-34                            $ 4.12  \n",
       "35-39                            $ 4.76  \n",
       "40+                              $ 3.19  "
      ]
     },
     "execution_count": 15,
     "metadata": {},
     "output_type": "execute_result"
    }
   ],
   "source": [
    "agegrouped.head()\n",
    "\n",
    "#purchase count\n",
    "agegrouppurchasecount = agegrouped.count()[\"Purchase ID\"]\n",
    "\n",
    "#avg purchase price\n",
    "agegroupavgprice = agegrouped.mean()[\"Price\"]\n",
    "\n",
    "#total purchase value\n",
    "agegroupavgprice = agegrouped.sum()[\"Price\"]\n",
    "\n",
    "#Avg Total Purchase per Person\n",
    "ageavg_total_ppp = agegroupavgprice / totalagecount\n",
    "\n",
    "#summary\n",
    "bigagesummary_df = pd.DataFrame({\n",
    "    \"Purchase Count\": agegrouppurchasecount,\n",
    "    \"Average Purchase Price\": agegroupavgprice, \n",
    "    \"Total Purchase Value\": agegroupavgprice,\n",
    "    \"Avg Total Purchase per Person\": ageavg_total_ppp})\n",
    "bigagesummary_df.index.name = \"Age Range\"\n",
    "\n",
    "bigagesummary_df[\"Average Purchase Price\"] = bigagesummary_df[\"Average Purchase Price\"].map(\"${: .2f}\".format)\n",
    "bigagesummary_df[\"Total Purchase Value\"] = bigagesummary_df[\"Total Purchase Value\"].map(\"${: .2f}\".format)\n",
    "bigagesummary_df[\"Avg Total Purchase per Person\"] = bigagesummary_df[\"Avg Total Purchase per Person\"].map(\"${: .2f}\".format)\n",
    "\n",
    "bigagesummary_df"
   ]
  },
  {
   "cell_type": "code",
   "execution_count": null,
   "metadata": {},
   "outputs": [],
   "source": []
  },
  {
   "cell_type": "code",
   "execution_count": 16,
   "metadata": {},
   "outputs": [
    {
     "data": {
      "text/html": [
       "<div>\n",
       "<style scoped>\n",
       "    .dataframe tbody tr th:only-of-type {\n",
       "        vertical-align: middle;\n",
       "    }\n",
       "\n",
       "    .dataframe tbody tr th {\n",
       "        vertical-align: top;\n",
       "    }\n",
       "\n",
       "    .dataframe thead th {\n",
       "        text-align: right;\n",
       "    }\n",
       "</style>\n",
       "<table border=\"1\" class=\"dataframe\">\n",
       "  <thead>\n",
       "    <tr style=\"text-align: right;\">\n",
       "      <th></th>\n",
       "      <th>Purchase Count</th>\n",
       "      <th>Average Purchase Price</th>\n",
       "      <th>Total Purchase Value</th>\n",
       "    </tr>\n",
       "    <tr>\n",
       "      <th>SN</th>\n",
       "      <th></th>\n",
       "      <th></th>\n",
       "      <th></th>\n",
       "    </tr>\n",
       "  </thead>\n",
       "  <tbody>\n",
       "    <tr>\n",
       "      <th>Lisosia93</th>\n",
       "      <td>5</td>\n",
       "      <td>$ 18.96</td>\n",
       "      <td>$ 18.96</td>\n",
       "    </tr>\n",
       "    <tr>\n",
       "      <th>Idastidru52</th>\n",
       "      <td>4</td>\n",
       "      <td>$ 15.45</td>\n",
       "      <td>$ 15.45</td>\n",
       "    </tr>\n",
       "    <tr>\n",
       "      <th>Chamjask73</th>\n",
       "      <td>3</td>\n",
       "      <td>$ 13.83</td>\n",
       "      <td>$ 13.83</td>\n",
       "    </tr>\n",
       "    <tr>\n",
       "      <th>Iral74</th>\n",
       "      <td>4</td>\n",
       "      <td>$ 13.62</td>\n",
       "      <td>$ 13.62</td>\n",
       "    </tr>\n",
       "    <tr>\n",
       "      <th>Iskadarya95</th>\n",
       "      <td>3</td>\n",
       "      <td>$ 13.10</td>\n",
       "      <td>$ 13.10</td>\n",
       "    </tr>\n",
       "  </tbody>\n",
       "</table>\n",
       "</div>"
      ],
      "text/plain": [
       "             Purchase Count Average Purchase Price Total Purchase Value\n",
       "SN                                                                     \n",
       "Lisosia93                 5                $ 18.96              $ 18.96\n",
       "Idastidru52               4                $ 15.45              $ 15.45\n",
       "Chamjask73                3                $ 13.83              $ 13.83\n",
       "Iral74                    4                $ 13.62              $ 13.62\n",
       "Iskadarya95               3                $ 13.10              $ 13.10"
      ]
     },
     "execution_count": 16,
     "metadata": {},
     "output_type": "execute_result"
    }
   ],
   "source": [
    "#set up so it is just those usernames\n",
    "\n",
    "snindex = purchase_data.set_index(\"SN\")\n",
    "\n",
    "locsn = snindex.loc[[\"Lisosia93\", \"Idastidru52\", \"Chamjask73\",\"Iral74\",\"Iskadarya95\"],:]\n",
    "\n",
    "groupsn = locsn.groupby(\"SN\")\n",
    "\n",
    "#purchase count\n",
    "sngrouppurchasecount = groupsn.count()[\"Purchase ID\"]\n",
    "\n",
    "#avg purchase price\n",
    "sngroupavgprice = groupsn.mean()[\"Price\"]\n",
    "\n",
    "#total purchase value\n",
    "sngroupavgprice = groupsn.sum()[\"Price\"]\n",
    "\n",
    "#summary\n",
    "topspendsummary_df = pd.DataFrame({\n",
    "    \"Purchase Count\": sngrouppurchasecount,\n",
    "    \"Average Purchase Price\": sngroupavgprice, \n",
    "    \"Total Purchase Value\": sngroupavgprice})\n",
    "topspendsummary_df.index.name = \"SN\"\n",
    "\n",
    "topspendsummary_df[\"Average Purchase Price\"] = topspendsummary_df[\"Average Purchase Price\"].map(\"${: .2f}\".format)\n",
    "topspendsummary_df[\"Total Purchase Value\"] = topspendsummary_df[\"Total Purchase Value\"].map(\"${: .2f}\".format)\n",
    "\n",
    "ascendtopspendsummary_df = topspendsummary_df.sort_values(\"Total Purchase Value\", ascending=False)\n",
    "\n",
    "ascendtopspendsummary_df"
   ]
  },
  {
   "cell_type": "markdown",
   "metadata": {},
   "source": [
    "## Top Spenders"
   ]
  },
  {
   "cell_type": "markdown",
   "metadata": {},
   "source": [
    "* Run basic calculations to obtain the results in the table below\n",
    "\n",
    "\n",
    "* Create a summary data frame to hold the results\n",
    "\n",
    "\n",
    "* Sort the total purchase value column in descending order\n",
    "\n",
    "\n",
    "* Optional: give the displayed data cleaner formatting\n",
    "\n",
    "\n",
    "* Display a preview of the summary data frame\n",
    "\n"
   ]
  },
  {
   "cell_type": "code",
   "execution_count": null,
   "metadata": {},
   "outputs": [],
   "source": []
  },
  {
   "cell_type": "code",
   "execution_count": 17,
   "metadata": {},
   "outputs": [
    {
     "data": {
      "text/html": [
       "<div>\n",
       "<style scoped>\n",
       "    .dataframe tbody tr th:only-of-type {\n",
       "        vertical-align: middle;\n",
       "    }\n",
       "\n",
       "    .dataframe tbody tr th {\n",
       "        vertical-align: top;\n",
       "    }\n",
       "\n",
       "    .dataframe thead th {\n",
       "        text-align: right;\n",
       "    }\n",
       "</style>\n",
       "<table border=\"1\" class=\"dataframe\">\n",
       "  <thead>\n",
       "    <tr style=\"text-align: right;\">\n",
       "      <th></th>\n",
       "      <th></th>\n",
       "      <th>Purchase Count</th>\n",
       "      <th>Item Price</th>\n",
       "      <th>Total Purchase Value</th>\n",
       "    </tr>\n",
       "    <tr>\n",
       "      <th>Item ID</th>\n",
       "      <th>Item Name</th>\n",
       "      <th></th>\n",
       "      <th></th>\n",
       "      <th></th>\n",
       "    </tr>\n",
       "  </thead>\n",
       "  <tbody>\n",
       "    <tr>\n",
       "      <th>92</th>\n",
       "      <th>Final Critic</th>\n",
       "      <td>13</td>\n",
       "      <td>$ 4.61</td>\n",
       "      <td>$ 59.99</td>\n",
       "    </tr>\n",
       "    <tr>\n",
       "      <th>178</th>\n",
       "      <th>Oathbreaker, Last Hope of the Breaking Storm</th>\n",
       "      <td>12</td>\n",
       "      <td>$ 4.23</td>\n",
       "      <td>$ 50.76</td>\n",
       "    </tr>\n",
       "    <tr>\n",
       "      <th>145</th>\n",
       "      <th>Fiery Glass Crusader</th>\n",
       "      <td>9</td>\n",
       "      <td>$ 4.58</td>\n",
       "      <td>$ 41.22</td>\n",
       "    </tr>\n",
       "    <tr>\n",
       "      <th>132</th>\n",
       "      <th>Persuasion</th>\n",
       "      <td>9</td>\n",
       "      <td>$ 3.22</td>\n",
       "      <td>$ 28.99</td>\n",
       "    </tr>\n",
       "    <tr>\n",
       "      <th>108</th>\n",
       "      <th>Extraction, Quickblade Of Trembling Hands</th>\n",
       "      <td>9</td>\n",
       "      <td>$ 3.53</td>\n",
       "      <td>$ 31.77</td>\n",
       "    </tr>\n",
       "  </tbody>\n",
       "</table>\n",
       "</div>"
      ],
      "text/plain": [
       "                                                      Purchase Count  \\\n",
       "Item ID Item Name                                                      \n",
       "92      Final Critic                                              13   \n",
       "178     Oathbreaker, Last Hope of the Breaking Storm              12   \n",
       "145     Fiery Glass Crusader                                       9   \n",
       "132     Persuasion                                                 9   \n",
       "108     Extraction, Quickblade Of Trembling Hands                  9   \n",
       "\n",
       "                                                     Item Price  \\\n",
       "Item ID Item Name                                                 \n",
       "92      Final Critic                                     $ 4.61   \n",
       "178     Oathbreaker, Last Hope of the Breaking Storm     $ 4.23   \n",
       "145     Fiery Glass Crusader                             $ 4.58   \n",
       "132     Persuasion                                       $ 3.22   \n",
       "108     Extraction, Quickblade Of Trembling Hands        $ 3.53   \n",
       "\n",
       "                                                     Total Purchase Value  \n",
       "Item ID Item Name                                                          \n",
       "92      Final Critic                                              $ 59.99  \n",
       "178     Oathbreaker, Last Hope of the Breaking Storm              $ 50.76  \n",
       "145     Fiery Glass Crusader                                      $ 41.22  \n",
       "132     Persuasion                                                $ 28.99  \n",
       "108     Extraction, Quickblade Of Trembling Hands                 $ 31.77  "
      ]
     },
     "execution_count": 17,
     "metadata": {},
     "output_type": "execute_result"
    }
   ],
   "source": [
    "#set up\n",
    "itemloc = purchase_data.loc[:, [\"Item ID\", \"Item Name\", \"Price\"]]\n",
    "\n",
    "groupitem = itemloc.groupby([\"Item ID\", \"Item Name\"])\n",
    "\n",
    "#purchase count\n",
    "itemgrouppurchasecount = groupitem.count()[\"Price\"]\n",
    "\n",
    "#Value per Item\n",
    "itemgroupvalueperitem = groupitem.sum()[\"Price\"]\n",
    "\n",
    "#Item Price\n",
    "itemprice = itemgroupvalueperitem/itemgrouppurchasecount\n",
    "\n",
    "#summary\n",
    "itemsummary_df = pd.DataFrame({\n",
    "    \"Purchase Count\": itemgrouppurchasecount,\n",
    "    \"Item Price\": itemprice, \n",
    "    \"Total Purchase Value\": itemgroupvalueperitem})\n",
    "itemsummary_df.index.name = \"Item ID\"\n",
    "\n",
    "itemsummary_df[\"Item Price\"] = itemsummary_df[\"Item Price\"].map(\"${: .2f}\".format)\n",
    "itemsummary_df[\"Total Purchase Value\"] = itemsummary_df[\"Total Purchase Value\"].map(\"${: .2f}\".format)\n",
    "\n",
    "ascenditemsummary_df = itemsummary_df.sort_values(\"Purchase Count\", ascending=False)\n",
    "\n",
    "ascenditemsummary_df.head()"
   ]
  },
  {
   "cell_type": "markdown",
   "metadata": {},
   "source": [
    "## Most Popular Items"
   ]
  },
  {
   "cell_type": "markdown",
   "metadata": {},
   "source": [
    "* Retrieve the Item ID, Item Name, and Item Price columns\n",
    "\n",
    "\n",
    "* Group by Item ID and Item Name. Perform calculations to obtain purchase count, average item price, and total purchase value\n",
    "\n",
    "\n",
    "* Create a summary data frame to hold the results\n",
    "\n",
    "\n",
    "* Sort the purchase count column in descending order\n",
    "\n",
    "\n",
    "* Optional: give the displayed data cleaner formatting\n",
    "\n",
    "\n",
    "* Display a preview of the summary data frame\n",
    "\n"
   ]
  },
  {
   "cell_type": "code",
   "execution_count": 44,
   "metadata": {},
   "outputs": [
    {
     "data": {
      "text/html": [
       "<div>\n",
       "<style scoped>\n",
       "    .dataframe tbody tr th:only-of-type {\n",
       "        vertical-align: middle;\n",
       "    }\n",
       "\n",
       "    .dataframe tbody tr th {\n",
       "        vertical-align: top;\n",
       "    }\n",
       "\n",
       "    .dataframe thead th {\n",
       "        text-align: right;\n",
       "    }\n",
       "</style>\n",
       "<table border=\"1\" class=\"dataframe\">\n",
       "  <thead>\n",
       "    <tr style=\"text-align: right;\">\n",
       "      <th></th>\n",
       "      <th></th>\n",
       "      <th>Purchase Count</th>\n",
       "      <th>Item Price</th>\n",
       "      <th>Total Purchase Value</th>\n",
       "    </tr>\n",
       "    <tr>\n",
       "      <th>Item ID</th>\n",
       "      <th>Item Name</th>\n",
       "      <th></th>\n",
       "      <th></th>\n",
       "      <th></th>\n",
       "    </tr>\n",
       "  </thead>\n",
       "  <tbody>\n",
       "    <tr>\n",
       "      <th>92</th>\n",
       "      <th>Final Critic</th>\n",
       "      <td>13</td>\n",
       "      <td>$ 4.61</td>\n",
       "      <td>$ 59.99</td>\n",
       "    </tr>\n",
       "    <tr>\n",
       "      <th>178</th>\n",
       "      <th>Oathbreaker, Last Hope of the Breaking Storm</th>\n",
       "      <td>12</td>\n",
       "      <td>$ 4.23</td>\n",
       "      <td>$ 50.76</td>\n",
       "    </tr>\n",
       "    <tr>\n",
       "      <th>82</th>\n",
       "      <th>Nirvana</th>\n",
       "      <td>9</td>\n",
       "      <td>$ 4.90</td>\n",
       "      <td>$ 44.10</td>\n",
       "    </tr>\n",
       "    <tr>\n",
       "      <th>145</th>\n",
       "      <th>Fiery Glass Crusader</th>\n",
       "      <td>9</td>\n",
       "      <td>$ 4.58</td>\n",
       "      <td>$ 41.22</td>\n",
       "    </tr>\n",
       "    <tr>\n",
       "      <th>103</th>\n",
       "      <th>Singed Scalpel</th>\n",
       "      <td>8</td>\n",
       "      <td>$ 4.35</td>\n",
       "      <td>$ 34.80</td>\n",
       "    </tr>\n",
       "  </tbody>\n",
       "</table>\n",
       "</div>"
      ],
      "text/plain": [
       "                                                      Purchase Count  \\\n",
       "Item ID Item Name                                                      \n",
       "92      Final Critic                                              13   \n",
       "178     Oathbreaker, Last Hope of the Breaking Storm              12   \n",
       "82      Nirvana                                                    9   \n",
       "145     Fiery Glass Crusader                                       9   \n",
       "103     Singed Scalpel                                             8   \n",
       "\n",
       "                                                     Item Price  \\\n",
       "Item ID Item Name                                                 \n",
       "92      Final Critic                                     $ 4.61   \n",
       "178     Oathbreaker, Last Hope of the Breaking Storm     $ 4.23   \n",
       "82      Nirvana                                          $ 4.90   \n",
       "145     Fiery Glass Crusader                             $ 4.58   \n",
       "103     Singed Scalpel                                   $ 4.35   \n",
       "\n",
       "                                                     Total Purchase Value  \n",
       "Item ID Item Name                                                          \n",
       "92      Final Critic                                              $ 59.99  \n",
       "178     Oathbreaker, Last Hope of the Breaking Storm              $ 50.76  \n",
       "82      Nirvana                                                   $ 44.10  \n",
       "145     Fiery Glass Crusader                                      $ 41.22  \n",
       "103     Singed Scalpel                                            $ 34.80  "
      ]
     },
     "execution_count": 44,
     "metadata": {},
     "output_type": "execute_result"
    }
   ],
   "source": [
    "#set up\n",
    "itemloc = purchase_data.loc[:, [\"Item ID\", \"Item Name\", \"Price\"]]\n",
    "\n",
    "groupitem = itemloc.groupby([\"Item ID\", \"Item Name\"])\n",
    "\n",
    "#purchase count\n",
    "itemgrouppurchasecount = groupitem.count()[\"Price\"]\n",
    "\n",
    "#Value per Item\n",
    "itemgroupvalueperitem = groupitem.sum()[\"Price\"]\n",
    "\n",
    "#Item Price\n",
    "itemprice = itemgroupvalueperitem/itemgrouppurchasecount\n",
    "\n",
    "#summary\n",
    "itemsummary_df = pd.DataFrame({\n",
    "    \"Purchase Count\": itemgrouppurchasecount,\n",
    "    \"Item Price\": itemprice, \n",
    "    \"Total Purchase Value\": itemgroupvalueperitem})\n",
    "itemsummary_df.index.name = \"Item ID\"\n",
    "\n",
    "mostprofitable = itemsummary_df.sort_values(by=\"Total Purchase Value\", ascending=False)\n",
    "\n",
    "mostprofitable[\"Item Price\"] = mostprofitable[\"Item Price\"].map(\"${: .2f}\".format)\n",
    "mostprofitable[\"Total Purchase Value\"] = mostprofitable[\"Total Purchase Value\"].map(\"${: .2f}\".format)\n",
    "\n",
    "mostprofitable.head()"
   ]
  },
  {
   "cell_type": "code",
   "execution_count": null,
   "metadata": {},
   "outputs": [],
   "source": []
  },
  {
   "cell_type": "markdown",
   "metadata": {},
   "source": [
    "## Most Profitable Items"
   ]
  },
  {
   "cell_type": "markdown",
   "metadata": {},
   "source": [
    "* Sort the above table by total purchase value in descending order\n",
    "\n",
    "\n",
    "* Optional: give the displayed data cleaner formatting\n",
    "\n",
    "\n",
    "* Display a preview of the data frame\n",
    "\n"
   ]
  },
  {
   "cell_type": "code",
   "execution_count": null,
   "metadata": {
    "scrolled": true
   },
   "outputs": [],
   "source": []
  },
  {
   "cell_type": "code",
   "execution_count": null,
   "metadata": {},
   "outputs": [],
   "source": []
  }
 ],
 "metadata": {
  "anaconda-cloud": {},
  "kernel_info": {
   "name": "python3"
  },
  "kernelspec": {
   "display_name": "Python 3",
   "language": "python",
   "name": "python3"
  },
  "language_info": {
   "codemirror_mode": {
    "name": "ipython",
    "version": 3
   },
   "file_extension": ".py",
   "mimetype": "text/x-python",
   "name": "python",
   "nbconvert_exporter": "python",
   "pygments_lexer": "ipython3",
   "version": "3.8.8"
  },
  "latex_envs": {
   "LaTeX_envs_menu_present": true,
   "autoclose": false,
   "autocomplete": true,
   "bibliofile": "biblio.bib",
   "cite_by": "apalike",
   "current_citInitial": 1,
   "eqLabelWithNumbers": true,
   "eqNumInitial": 1,
   "hotkeys": {
    "equation": "Ctrl-E",
    "itemize": "Ctrl-I"
   },
   "labels_anchors": false,
   "latex_user_defs": false,
   "report_style_numbering": false,
   "user_envs_cfg": false
  },
  "nteract": {
   "version": "0.2.0"
  }
 },
 "nbformat": 4,
 "nbformat_minor": 4
}
